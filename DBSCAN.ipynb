{
 "cells": [
  {
   "cell_type": "code",
   "execution_count": 1,
   "id": "7c1354cc",
   "metadata": {},
   "outputs": [],
   "source": [
    "from sklearn.metrics import accuracy_score, precision_score, recall_score, roc_auc_score, mean_squared_error as mse\n",
    "from sklearn.cluster import DBSCAN\n",
    "import numpy as np\n",
    "import pandas as pd\n",
    "import collections"
   ]
  },
  {
   "cell_type": "code",
   "execution_count": 2,
   "id": "8f7db4ab",
   "metadata": {},
   "outputs": [],
   "source": [
    "def scor(a):\n",
    "    if a == -1:\n",
    "        return 1\n",
    "    else:\n",
    "        return 0"
   ]
  },
  {
   "cell_type": "code",
   "execution_count": 63,
   "id": "77f08866",
   "metadata": {},
   "outputs": [],
   "source": [
    "def clust(X):\n",
    "    print(X.shape, y.shape)\n",
    "\n",
    "    clusters = DBSCAN(eps=0.3, min_samples=5).fit_predict(X)\n",
    "    counter = collections.Counter(clusters)\n",
    "    print(counter, precision_score(np.array(list(map(scor, clusters))), y), accuracy_score(np.array(list(map(scor, clusters))), y))\n",
    "    cl_col = [clusters]\n",
    "\n",
    "    clusters = DBSCAN(eps=0.5, min_samples=7).fit_predict(X)\n",
    "    counter = collections.Counter(clusters)\n",
    "    print(counter, precision_score(np.array(list(map(scor, clusters))), y), accuracy_score(np.array(list(map(scor, clusters))), y))\n",
    "    cl_col = np.concatenate([cl_col, [clusters]], axis=0)\n",
    "\n",
    "    clusters = DBSCAN(eps=0.8, min_samples=10).fit_predict(X)\n",
    "    counter = collections.Counter(clusters)\n",
    "    print(counter, precision_score(np.array(list(map(scor, clusters))), y), accuracy_score(np.array(list(map(scor, clusters))), y))\n",
    "    cl_col = np.concatenate([cl_col, [clusters]], axis=0)\n",
    "\n",
    "    clusters = DBSCAN(eps=1, min_samples=10).fit_predict(X)\n",
    "    counter = collections.Counter(clusters)\n",
    "    print(counter, precision_score(np.array(list(map(scor, clusters))), y), accuracy_score(np.array(list(map(scor, clusters))), y))\n",
    "    cl_col = np.concatenate([cl_col, [clusters]], axis=0)\n",
    "\n",
    "    clusters = DBSCAN(eps=1, min_samples=5).fit_predict(X)\n",
    "    counter = collections.Counter(clusters)\n",
    "    print(counter, precision_score(np.array(list(map(scor, clusters))), y), accuracy_score(np.array(list(map(scor, clusters))), y))\n",
    "    cl_col = np.concatenate([cl_col, [clusters]], axis=0)\n",
    "    print(X.shape, cl_col.T.shape)\n",
    "    X = np.concatenate([X, cl_col.T], axis = 1)\n",
    "    print(X.shape)\n",
    "    \n",
    "    return X"
   ]
  },
  {
   "cell_type": "code",
   "execution_count": 64,
   "id": "3ac27f78",
   "metadata": {},
   "outputs": [
    {
     "name": "stdout",
     "output_type": "stream",
     "text": [
      "(4819, 5) (4819,)\n",
      "Counter({0: 2780, -1: 1865, 18: 20, 2: 14, 7: 9, 14: 9, 10: 8, 24: 8, 5: 7, 21: 7, 1: 6, 16: 6, 8: 6, 15: 6, 13: 6, 27: 6, 23: 5, 20: 5, 26: 5, 11: 5, 19: 5, 17: 5, 3: 4, 4: 4, 9: 4, 12: 4, 22: 4, 6: 3, 25: 3}) 0.5486381322957199 0.6181780452376011\n",
      "Counter({0: 4168, -1: 651}) 0.042801556420233464 0.8161444283046275\n",
      "Counter({0: 4553, -1: 266}) 0.0 0.8914712595974269\n",
      "Counter({0: 4633, -1: 186}) 0.0 0.9080722141523138\n",
      "Counter({0: 4653, -1: 161, 1: 5}) 0.0 0.9132600124507159\n",
      "(4819, 5) (4819, 5)\n",
      "(4819, 10)\n"
     ]
    }
   ],
   "source": [
    "data = np.load('datasets/Scaled/44_Wilt_S.npz', allow_pickle=True)\n",
    "X, y = data['X'], data['y']\n",
    "\n",
    "X = clust(X)\n",
    "\n",
    "np.savez('datasets/Clustered/44_Wilt_C.npz', X = X, y = y)"
   ]
  },
  {
   "cell_type": "code",
   "execution_count": 65,
   "id": "3ccf53e3",
   "metadata": {},
   "outputs": [
    {
     "name": "stdout",
     "output_type": "stream",
     "text": [
      "(7200, 6) (7200,)\n",
      "Counter({-1: 3798, 0: 3135, 1: 13, 15: 13, 5: 13, 23: 10, 6: 10, 17: 9, 12: 9, 14: 8, 34: 8, 3: 7, 20: 7, 38: 7, 2: 6, 8: 6, 11: 6, 9: 6, 22: 6, 13: 6, 16: 6, 26: 5, 30: 5, 21: 5, 40: 5, 39: 5, 4: 5, 29: 5, 27: 5, 7: 5, 10: 5, 41: 5, 19: 5, 25: 5, 24: 5, 43: 5, 37: 5, 18: 4, 42: 4, 33: 4, 35: 4, 32: 4, 36: 4, 28: 4, 31: 3}) 0.9194756554307116 0.5347222222222222\n",
      "Counter({0: 5581, -1: 1580, 1: 8, 6: 7, 4: 6, 5: 6, 2: 6, 3: 6}) 0.5674157303370787 0.7905555555555556\n",
      "Counter({0: 6542, -1: 658}) 0.36142322097378277 0.8880555555555556\n",
      "Counter({0: 6801, -1: 390, 1: 9}) 0.24719101123595505 0.9083333333333333\n",
      "Counter({0: 6912, -1: 277, 2: 7, 1: 4}) 0.1704119850187266 0.9126388888888889\n",
      "(7200, 6) (7200, 5)\n",
      "(7200, 11)\n"
     ]
    }
   ],
   "source": [
    "data = np.load('datasets/Scaled/02_annthyroid_S.npz', allow_pickle=True)\n",
    "X, y = data['X'], data['y']\n",
    "\n",
    "X = clust(X)\n",
    "\n",
    "np.savez('datasets/Clustered/02_annthyroid_C.npz', X = X, y = y)"
   ]
  },
  {
   "cell_type": "code",
   "execution_count": 66,
   "id": "33dbbf3d",
   "metadata": {},
   "outputs": [
    {
     "name": "stdout",
     "output_type": "stream",
     "text": [
      "(1831, 21) (1831,)\n",
      "Counter({-1: 1821, 0: 5, 1: 5}) 1.0 0.10158383397050792\n",
      "Counter({-1: 1818, 0: 13}) 1.0 0.1032222829055161\n",
      "Counter({-1: 1818, 0: 13}) 1.0 0.1032222829055161\n",
      "Counter({-1: 1799, 1: 18, 0: 14}) 1.0 0.113599126160568\n",
      "Counter({-1: 1567, 18: 32, 0: 31, 5: 26, 3: 15, 10: 14, 23: 8, 24: 8, 27: 8, 29: 8, 15: 7, 1: 6, 19: 6, 20: 6, 22: 6, 26: 6, 25: 6, 28: 6, 2: 5, 4: 5, 6: 5, 7: 5, 8: 5, 9: 5, 11: 5, 12: 5, 13: 5, 14: 5, 16: 5, 17: 5, 21: 5}) 0.9204545454545454 0.22501365374112506\n",
      "(1831, 21) (1831, 5)\n",
      "(1831, 26)\n"
     ]
    }
   ],
   "source": [
    "data = np.load('datasets/Scaled/06_cardio_S.npz', allow_pickle=True)\n",
    "X, y = data['X'], data['y']\n",
    "\n",
    "X = clust(X)\n",
    "\n",
    "np.savez('datasets/Clustered/06_cardio_C.npz', X = X, y = y)"
   ]
  },
  {
   "cell_type": "code",
   "execution_count": 67,
   "id": "4a727ea2",
   "metadata": {},
   "outputs": [
    {
     "name": "stdout",
     "output_type": "stream",
     "text": [
      "(11183, 6) (11183,)\n",
      "Counter({0: 5526, -1: 2491, 1: 1774, 2: 1164, 8: 67, 6: 16, 11: 12, 4: 11, 9: 11, 3: 9, 13: 8, 14: 7, 12: 7, 22: 6, 25: 6, 20: 6, 5: 5, 7: 5, 15: 5, 21: 5, 19: 5, 17: 5, 18: 5, 23: 5, 24: 5, 26: 5, 10: 4, 16: 4, 27: 4}) 0.7230769230769231 0.7876240722525262\n",
      "Counter({0: 5705, 1: 4593, -1: 791, 2: 76, 3: 11, 4: 7}) 0.4076923076923077 0.9249754091031029\n",
      "Counter({1: 5725, 0: 5178, -1: 280}) 0.25 0.9633372082625413\n",
      "Counter({1: 5744, 0: 5298, -1: 141}) 0.16538461538461538 0.9718322453724403\n",
      "Counter({1: 5747, 0: 5310, -1: 108, 2: 8, 4: 5, 3: 5}) 0.15 0.9740677814539926\n",
      "(11183, 6) (11183, 5)\n",
      "(11183, 11)\n"
     ]
    }
   ],
   "source": [
    "data = np.load('datasets/Scaled/23_mammography_S.npz', allow_pickle=True)\n",
    "X, y = data['X'], data['y']\n",
    "\n",
    "X = clust(X)\n",
    "\n",
    "np.savez('datasets/Clustered/23_mammography_C.npz', X = X, y = y)"
   ]
  },
  {
   "cell_type": "code",
   "execution_count": 68,
   "id": "2a542c70",
   "metadata": {},
   "outputs": [
    {
     "name": "stdout",
     "output_type": "stream",
     "text": [
      "(5393, 10) (5393,)\n",
      "Counter({0: 3714, -1: 1077, 15: 131, 1: 80, 24: 45, 33: 23, 26: 18, 4: 16, 17: 15, 11: 13, 8: 12, 6: 12, 23: 12, 31: 12, 7: 11, 22: 10, 25: 10, 36: 10, 5: 9, 14: 9, 18: 9, 32: 9, 10: 8, 12: 8, 38: 8, 39: 8, 21: 7, 9: 6, 42: 6, 41: 6, 20: 6, 40: 6, 2: 5, 3: 5, 29: 5, 13: 5, 30: 5, 19: 5, 27: 5, 34: 5, 35: 5, 37: 5, 43: 5, 44: 5, 16: 4, 28: 3}) 0.6058823529411764 0.8203226404598554\n",
      "Counter({0: 4635, -1: 518, 8: 71, 11: 64, 9: 20, 5: 16, 12: 12, 1: 10, 2: 10, 7: 10, 6: 8, 4: 7, 10: 7, 3: 5}) 0.49019607843137253 0.9020953087335435\n",
      "Counter({0: 4935, -1: 294, 5: 85, 4: 20, 6: 19, 2: 16, 1: 12, 3: 12}) 0.34901960784313724 0.9169293528648248\n",
      "Counter({0: 5103, -1: 203, 5: 28, 3: 21, 1: 16, 2: 12, 4: 10}) 0.2725490196078431 0.9193398850361579\n",
      "Counter({0: 5130, -1: 164, 6: 28, 3: 21, 1: 16, 2: 12, 4: 10, 5: 6, 7: 6}) 0.22941176470588234 0.9184127572779529\n",
      "(5393, 10) (5393, 5)\n",
      "(5393, 15)\n"
     ]
    }
   ],
   "source": [
    "data = np.load('datasets/Scaled/27_PageBlocks_s.npz', allow_pickle=True)\n",
    "X, y = data['X'], data['y']\n",
    "\n",
    "X = clust(X)\n",
    "\n",
    "np.savez('datasets/Clustered/27_PageBlocks_C.npz', X = X, y = y)"
   ]
  },
  {
   "cell_type": "code",
   "execution_count": 69,
   "id": "ca8322ac",
   "metadata": {},
   "outputs": [
    {
     "name": "stdout",
     "output_type": "stream",
     "text": [
      "(1456, 12) (1456,)\n",
      "Counter({-1: 1456}) 1.0 0.034340659340659344\n",
      "Counter({-1: 1456}) 1.0 0.034340659340659344\n",
      "Counter({-1: 1456}) 1.0 0.034340659340659344\n",
      "Counter({-1: 1307, 1: 62, 0: 51, 2: 25, 3: 11}) 1.0 0.13667582417582416\n",
      "Counter({-1: 1024, 0: 284, 13: 30, 14: 22, 16: 13, 3: 8, 1: 7, 2: 7, 6: 7, 7: 7, 11: 7, 4: 6, 9: 6, 8: 5, 10: 5, 12: 5, 15: 5, 17: 5, 5: 3}) 1.0 0.33104395604395603\n",
      "(1456, 12) (1456, 5)\n",
      "(1456, 17)\n"
     ]
    }
   ],
   "source": [
    "data = np.load('datasets/Scaled/40_vowels_S.npz', allow_pickle=True)\n",
    "X, y = data['X'], data['y']\n",
    "\n",
    "X = clust(X)\n",
    "\n",
    "np.savez('datasets/Clustered/40_vowels_C.npz', X = X, y = y)"
   ]
  },
  {
   "cell_type": "code",
   "execution_count": 70,
   "id": "f1cbc6b6",
   "metadata": {},
   "outputs": [
    {
     "name": "stdout",
     "output_type": "stream",
     "text": [
      "(1484, 8) (1484,)\n",
      "Counter({-1: 1484}) 1.0 0.341644204851752\n",
      "Counter({-1: 1435, 0: 27, 1: 8, 2: 7, 3: 7}) 0.9428007889546351 0.33557951482479786\n",
      "Counter({-1: 862, 0: 613, 1: 9}) 0.45956607495069035 0.3915094339622642\n",
      "Counter({0: 1019, -1: 465}) 0.26627218934911245 0.5269541778975741\n",
      "Counter({0: 1134, -1: 350}) 0.21104536489151873 0.566711590296496\n",
      "(1484, 8) (1484, 5)\n",
      "(1484, 13)\n"
     ]
    }
   ],
   "source": [
    "data = np.load('datasets/Scaled/47_yeast_S.npz', allow_pickle=True)\n",
    "X, y = data['X'], data['y']\n",
    "\n",
    "X = clust(X)\n",
    "\n",
    "np.savez('datasets/Clustered/47_yeast_C.npz', X = X, y = y)"
   ]
  },
  {
   "cell_type": "code",
   "execution_count": null,
   "id": "3d317064",
   "metadata": {},
   "outputs": [],
   "source": []
  }
 ],
 "metadata": {
  "kernelspec": {
   "display_name": "Python 3 (ipykernel)",
   "language": "python",
   "name": "python3"
  },
  "language_info": {
   "codemirror_mode": {
    "name": "ipython",
    "version": 3
   },
   "file_extension": ".py",
   "mimetype": "text/x-python",
   "name": "python",
   "nbconvert_exporter": "python",
   "pygments_lexer": "ipython3",
   "version": "3.9.7"
  }
 },
 "nbformat": 4,
 "nbformat_minor": 5
}
