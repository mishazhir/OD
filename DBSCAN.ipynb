{
 "cells": [
  {
   "cell_type": "code",
   "execution_count": 12,
   "id": "7c1354cc",
   "metadata": {},
   "outputs": [],
   "source": [
    "from sklearn.metrics import accuracy_score, precision_score, recall_score, roc_auc_score, mean_squared_error as mse\n",
    "from sklearn.cluster import DBSCAN\n",
    "import numpy as np\n",
    "import pandas as pd\n",
    "import collections"
   ]
  },
  {
   "cell_type": "code",
   "execution_count": 44,
   "id": "3ac27f78",
   "metadata": {},
   "outputs": [
    {
     "data": {
      "text/plain": [
       "(Counter({-1: 2840, 6: 9, 0: 1912, 2: 27, 1: 5, 4: 6, 3: 5, 5: 15}),\n",
       " 0.754863813229572,\n",
       " 0.4378501763851421)"
      ]
     },
     "execution_count": 44,
     "metadata": {},
     "output_type": "execute_result"
    }
   ],
   "source": [
    "data = np.load('datasets/Scaled/44_Wilt_S.npz', allow_pickle=True)\n",
    "X, y = data['X'], data['y']\n",
    "clusters = DBSCAN(eps=0.3, min_samples=10).fit_predict(X)\n",
    "counter = collections.Counter(clusters)\n",
    "counter, precision_score(np.array(list(map(scor, clusters))), y), accuracy_score(np.array(list(map(scor, clusters))), y)"
   ]
  },
  {
   "cell_type": "code",
   "execution_count": 33,
   "id": "8ee0f4c1",
   "metadata": {},
   "outputs": [
    {
     "data": {
      "text/plain": [
       "0.7607387424776925"
      ]
     },
     "execution_count": 33,
     "metadata": {},
     "output_type": "execute_result"
    }
   ],
   "source": [
    "def scor(a):\n",
    "    if a == -1:\n",
    "        return 1\n",
    "    else:\n",
    "        return 0\n",
    "    \n"
   ]
  },
  {
   "cell_type": "code",
   "execution_count": 27,
   "id": "3ccf53e3",
   "metadata": {},
   "outputs": [
    {
     "data": {
      "text/plain": [
       "Counter({0: 4090, -1: 3056, 1: 16, 6: 10, 4: 10, 5: 6, 2: 9, 3: 3})"
      ]
     },
     "execution_count": 27,
     "metadata": {},
     "output_type": "execute_result"
    }
   ],
   "source": [
    "data = np.load('datasets/Scaled/02_annthyroid_S.npz', allow_pickle=True)\n",
    "X, y = data['X'], data['y']\n",
    "clusters = DBSCAN(eps=0.4, min_samples=10).fit_predict(X)\n",
    "counter = collections.Counter(clusters)\n",
    "counter"
   ]
  },
  {
   "cell_type": "code",
   "execution_count": null,
   "id": "33dbbf3d",
   "metadata": {},
   "outputs": [],
   "source": []
  }
 ],
 "metadata": {
  "kernelspec": {
   "display_name": "Python 3 (ipykernel)",
   "language": "python",
   "name": "python3"
  },
  "language_info": {
   "codemirror_mode": {
    "name": "ipython",
    "version": 3
   },
   "file_extension": ".py",
   "mimetype": "text/x-python",
   "name": "python",
   "nbconvert_exporter": "python",
   "pygments_lexer": "ipython3",
   "version": "3.9.7"
  }
 },
 "nbformat": 4,
 "nbformat_minor": 5
}
