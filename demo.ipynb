{
 "cells": [
  {
   "cell_type": "markdown",
   "metadata": {
    "pycharm": {
     "name": "#%% md\n"
    }
   },
   "source": [
    "# Run ADBench \n",
    "- Here we provide a demo for testing AD algorithms on the datasets proposed in ADBench.\n",
    "- Feel free to evaluate any customized algorithm in ADBench.\n",
    "- For reproducing the complete experiment results in ADBench, please run the code in the run.py file."
   ]
  },
  {
   "cell_type": "code",
   "execution_count": 2,
   "metadata": {
    "ExecuteTime": {
     "end_time": "2022-07-08T07:41:53.643140Z",
     "start_time": "2022-07-08T07:41:41.552946Z"
    },
    "pycharm": {
     "name": "#%%\n"
    },
    "scrolled": true
   },
   "outputs": [],
   "source": [
    "# import basic package\n",
    "import os\n",
    "import pandas as pd\n",
    "import numpy as np\n",
    "\n",
    "# import the necessary package\n",
    "from data_generator import DataGenerator\n",
    "from myutils import Utils\n",
    "\n",
    "datagenerator = DataGenerator() # data generator\n",
    "utils = Utils() # utils function"
   ]
  },
  {
   "cell_type": "markdown",
   "metadata": {},
   "source": [
    "- We include all the datasets of ADBench in the \"datasets\" folder, as the \"number_data_class.npz\" filename. Please see the table in the markdown for details.\n",
    "    - You can specify the dataset name by removing the filename \".npz\" suffix in the data generator, e.g., \"10_cover.npz\" as \"10_cover\". \n",
    "    \n",
    "    \n",
    "- All the algorithms included in the ADBench are illustrated in the table of markdown.\n",
    "    - You need to specify the model name when initialization, as some algorithms (e.g., supervised algorithms) are integrated in one class, please see the table in the markdown for details.\n",
    "    - You can also test your own AD algorithms on our generated dataset, as long as the algorithm can output anomaly score for evaluation."
   ]
  },
  {
   "cell_type": "code",
   "execution_count": 3,
   "metadata": {
    "ExecuteTime": {
     "end_time": "2022-07-08T07:41:53.675055Z",
     "start_time": "2022-07-08T07:41:53.648127Z"
    }
   },
   "outputs": [
    {
     "data": {
      "text/plain": [
       "['26_optdigits.npz',\n",
       " '42_WBC.npz',\n",
       " '05_campaign.npz',\n",
       " '21_Lymphography.npz',\n",
       " '33_skin.npz',\n",
       " '34_smtp.npz',\n",
       " '28_pendigits.npz',\n",
       " '39_vertebral.npz',\n",
       " '11_donors.npz',\n",
       " '43_WDBC.npz',\n",
       " '36_speech.npz',\n",
       " '44_Wilt.npz',\n",
       " '01_ALOI.npz',\n",
       " '10_cover.npz',\n",
       " '08_celeba.npz',\n",
       " '46_WPBC.npz',\n",
       " '03_backdoor.npz',\n",
       " '04_breastw.npz',\n",
       " '37_Stamps.npz',\n",
       " '27_PageBlocks.npz',\n",
       " '31_satimage-2.npz',\n",
       " '38_thyroid.npz',\n",
       " '29_Pima.npz',\n",
       " '24_mnist.npz',\n",
       " '07_Cardiotocography.npz',\n",
       " '15_Hepatitis.npz',\n",
       " '09_census.npz',\n",
       " '22_magic.gamma.npz',\n",
       " '16_http.npz',\n",
       " '32_shuttle.npz',\n",
       " '12_fault.npz',\n",
       " '47_yeast.npz',\n",
       " '13_fraud.npz',\n",
       " '35_SpamBase.npz',\n",
       " '41_Waveform.npz',\n",
       " '17_InternetAds.npz',\n",
       " '23_mammography.npz',\n",
       " '02_annthyroid.npz',\n",
       " '40_vowels.npz',\n",
       " '45_wine.npz',\n",
       " '25_musk.npz',\n",
       " '06_cardio.npz',\n",
       " '18_Ionosphere.npz',\n",
       " '20_letter.npz',\n",
       " '19_landsat.npz',\n",
       " '14_glass.npz',\n",
       " '30_satellite.npz']"
      ]
     },
     "execution_count": 3,
     "metadata": {},
     "output_type": "execute_result"
    }
   ],
   "source": [
    "os.listdir('datasets/Classical')"
   ]
  },
  {
   "cell_type": "code",
   "execution_count": null,
   "metadata": {},
   "outputs": [],
   "source": [
    "import pyod\n",
    "models = {'IForest': pyod.models.iforest.IForest,\n",
    " 'OCSVM': pyod.models.ocsvm.OCSVM,\n",
    " 'CBLOF': pyod.models.cblof.CBLOF,\n",
    " 'COF': pyod.models.cof.COF,\n",
    " 'COPOD': pyod.models.copod.COPOD,\n",
    " 'ECOD': pyod.models.ecod.ECOD,\n",
    " 'HBOS': pyod.models.hbos.HBOS,\n",
    " 'KNN': pyod.models.knn.KNN,\n",
    " 'LODA': pyod.models.loda.LODA,\n",
    " 'LOF': pyod.models.lof.LOF,\n",
    " 'PCA': pyod.models.pca.PCA,\n",
    " 'SOD': pyod.models.sod.SOD\n",
    "}"
   ]
  },
  {
   "cell_type": "code",
   "execution_count": 16,
   "metadata": {
    "ExecuteTime": {
     "end_time": "2022-07-08T07:41:55.627834Z",
     "start_time": "2022-07-08T07:41:53.682035Z"
    },
    "pycharm": {
     "name": "#%%\n"
    }
   },
   "outputs": [],
   "source": [
    "from baseline.PyOD import PYOD\n",
    "from baseline.DevNet.run import DevNet\n",
    "from baseline.Supervised import supervised\n",
    "\n",
    "# dataset and model list / dict\n",
    "dataset_list = ['02_annthyroid', '06_cardio', '23_mammography', '27_PageBlocks', '40_vowels', '44_Wilt', '47_yeast']\n",
    "model_dict = dict(\n",
    "    **{model_name: PYOD for model_name in models},\n",
    ")\n",
    "\n",
    "\n",
    "# save the results\n",
    "df_AUCROC = pd.DataFrame(data=None, index=dataset_list, columns = model_dict.keys())\n",
    "df_AUCPR = pd.DataFrame(data=None, index=dataset_list, columns = model_dict.keys())"
   ]
  },
  {
   "cell_type": "code",
   "execution_count": 18,
   "metadata": {},
   "outputs": [
    {
     "data": {
      "text/plain": [
       "{'IForest': pyod.models.iforest.IForest,\n",
       " 'OCSVM': pyod.models.ocsvm.OCSVM,\n",
       " 'ABOD': pyod.models.abod.ABOD,\n",
       " 'CBLOF': pyod.models.cblof.CBLOF,\n",
       " 'COF': pyod.models.cof.COF,\n",
       " 'AOM': <function pyod.models.combination.aom(scores, n_buckets=5, method='static', bootstrap_estimators=False, random_state=None)>,\n",
       " 'COPOD': pyod.models.copod.COPOD,\n",
       " 'ECOD': pyod.models.ecod.ECOD,\n",
       " 'FeatureBagging': pyod.models.feature_bagging.FeatureBagging,\n",
       " 'HBOS': pyod.models.hbos.HBOS,\n",
       " 'KNN': pyod.models.knn.KNN,\n",
       " 'LMDD': pyod.models.lmdd.LMDD,\n",
       " 'LODA': pyod.models.loda.LODA,\n",
       " 'LOF': pyod.models.lof.LOF,\n",
       " 'LOCI': pyod.models.loci.LOCI,\n",
       " 'LSCP': pyod.models.lscp.LSCP,\n",
       " 'MAD': pyod.models.mad.MAD,\n",
       " 'MCD': pyod.models.mcd.MCD,\n",
       " 'PCA': pyod.models.pca.PCA,\n",
       " 'ROD': pyod.models.rod.ROD,\n",
       " 'SOD': pyod.models.sod.SOD,\n",
       " 'SOS': pyod.models.sos.SOS,\n",
       " 'VAE': pyod.models.vae.VAE,\n",
       " 'DeepSVDD': pyod.models.deep_svdd.DeepSVDD,\n",
       " 'AutoEncoder': pyod.models.auto_encoder_torch.AutoEncoder,\n",
       " 'SOGAAL': pyod.models.so_gaal.SO_GAAL,\n",
       " 'MOGAAL': pyod.models.mo_gaal.MO_GAAL,\n",
       " 'XGBOD': pyod.models.xgbod.XGBOD}"
      ]
     },
     "execution_count": 18,
     "metadata": {},
     "output_type": "execute_result"
    }
   ],
   "source": [
    "PYOD(0, \"OCSVM\").model_dict"
   ]
  },
  {
   "cell_type": "code",
   "execution_count": 19,
   "metadata": {},
   "outputs": [],
   "source": [
    "from tqdm.auto import tqdm"
   ]
  },
  {
   "cell_type": "code",
   "execution_count": 20,
   "metadata": {},
   "outputs": [
    {
     "name": "stdout",
     "output_type": "stream",
     "text": [
      "02_annthyroid\n",
      "current noise type: None\n",
      "{'Samples': 7200, 'Features': 6, 'Anomalies': 534, 'Anomalies Ratio(%)': 7.42}\n",
      "06_cardio\n",
      "current noise type: None\n",
      "{'Samples': 1831, 'Features': 21, 'Anomalies': 176, 'Anomalies Ratio(%)': 9.61}\n",
      "23_mammography\n",
      "subsampling for dataset 23_mammography...\n",
      "current noise type: None\n",
      "{'Samples': 10000, 'Features': 6, 'Anomalies': 226, 'Anomalies Ratio(%)': 2.26}\n",
      "27_PageBlocks\n",
      "current noise type: None\n",
      "{'Samples': 5393, 'Features': 10, 'Anomalies': 510, 'Anomalies Ratio(%)': 9.46}\n",
      "40_vowels\n",
      "current noise type: None\n",
      "{'Samples': 1456, 'Features': 12, 'Anomalies': 50, 'Anomalies Ratio(%)': 3.43}\n",
      "44_Wilt\n",
      "current noise type: None\n",
      "{'Samples': 4819, 'Features': 5, 'Anomalies': 257, 'Anomalies Ratio(%)': 5.33}\n",
      "47_yeast\n",
      "current noise type: None\n",
      "{'Samples': 1484, 'Features': 8, 'Anomalies': 507, 'Anomalies Ratio(%)': 34.16}\n"
     ]
    }
   ],
   "source": [
    "seed = 42\n",
    "\n",
    "for dataset in dataset_list:\n",
    "    '''\n",
    "    la: ratio of labeled anomalies, from 0.0 to 1.0\n",
    "    realistic_synthetic_mode: types of synthetic anomalies, can be local, global, dependency or cluster\n",
    "    noise_type: inject data noises for testing model robustness, can be duplicated_anomalies, irrelevant_features or label_contamination\n",
    "    '''\n",
    "    \n",
    "    # import the dataset\n",
    "    print(dataset)\n",
    "    datagenerator.dataset = dataset # specify the dataset name\n",
    "    data = datagenerator.generator(la=0.1, realistic_synthetic_mode=None, noise_type=None) # only 10% labeled anomalies are available\n",
    "    "
   ]
  },
  {
   "cell_type": "code",
   "execution_count": 21,
   "metadata": {},
   "outputs": [
    {
     "name": "stdout",
     "output_type": "stream",
     "text": [
      "current noise type: None\n",
      "{'Samples': 1484, 'Features': 8, 'Anomalies': 507, 'Anomalies Ratio(%)': 34.16}\n"
     ]
    },
    {
     "data": {
      "text/plain": [
       "{'X_train': False, 'y_train': False, 'X_test': False, 'y_test': False}"
      ]
     },
     "execution_count": 21,
     "metadata": {},
     "output_type": "execute_result"
    }
   ],
   "source": [
    "datagenerator.dataset = dataset # specify the dataset name\n",
    "data = datagenerator.generator(la=0.1, realistic_synthetic_mode=None, noise_type=None)\n",
    "{key: np.isnan(value).any() for key, value in data.items()}"
   ]
  },
  {
   "cell_type": "code",
   "execution_count": 22,
   "metadata": {},
   "outputs": [],
   "source": [
    "import numpy as np"
   ]
  },
  {
   "cell_type": "code",
   "execution_count": null,
   "metadata": {
    "ExecuteTime": {
     "end_time": "2022-07-08T07:50:14.507244Z",
     "start_time": "2022-07-08T07:41:55.631823Z"
    },
    "pycharm": {
     "name": "#%%\n"
    }
   },
   "outputs": [
    {
     "name": "stdout",
     "output_type": "stream",
     "text": [
      "current noise type: None\n",
      "{'Samples': 7200, 'Features': 6, 'Anomalies': 534, 'Anomalies Ratio(%)': 7.42}\n"
     ]
    },
    {
     "data": {
      "application/vnd.jupyter.widget-view+json": {
       "model_id": "a93eb67bd7a0478eb90edb5d4a7f9b0a",
       "version_major": 2,
       "version_minor": 0
      },
      "text/plain": [
       "  0%|          | 0/12 [00:00<?, ?it/s]"
      ]
     },
     "metadata": {},
     "output_type": "display_data"
    },
    {
     "name": "stdout",
     "output_type": "stream",
     "text": [
      "best param: None\n"
     ]
    },
    {
     "name": "stderr",
     "output_type": "stream",
     "text": [
      "/Users/misha/opt/anaconda3/lib/python3.9/site-packages/pyod/models/base.py:431: UserWarning: y should not be presented in unsupervised learning.\n",
      "  warnings.warn(\n"
     ]
    },
    {
     "name": "stdout",
     "output_type": "stream",
     "text": [
      "best param: None\n"
     ]
    },
    {
     "name": "stderr",
     "output_type": "stream",
     "text": [
      "/Users/misha/opt/anaconda3/lib/python3.9/site-packages/pyod/models/base.py:431: UserWarning: y should not be presented in unsupervised learning.\n",
      "  warnings.warn(\n"
     ]
    },
    {
     "name": "stdout",
     "output_type": "stream",
     "text": [
      "best param: None\n"
     ]
    },
    {
     "name": "stderr",
     "output_type": "stream",
     "text": [
      "/Users/misha/opt/anaconda3/lib/python3.9/site-packages/pyod/models/base.py:431: UserWarning: y should not be presented in unsupervised learning.\n",
      "  warnings.warn(\n"
     ]
    },
    {
     "name": "stdout",
     "output_type": "stream",
     "text": [
      "best param: None\n"
     ]
    },
    {
     "name": "stderr",
     "output_type": "stream",
     "text": [
      "/Users/misha/opt/anaconda3/lib/python3.9/site-packages/pyod/models/base.py:431: UserWarning: y should not be presented in unsupervised learning.\n",
      "  warnings.warn(\n"
     ]
    },
    {
     "name": "stdout",
     "output_type": "stream",
     "text": [
      "best param: None\n",
      "best param: None\n",
      "best param: None\n"
     ]
    },
    {
     "name": "stderr",
     "output_type": "stream",
     "text": [
      "/Users/misha/opt/anaconda3/lib/python3.9/site-packages/pyod/models/base.py:431: UserWarning: y should not be presented in unsupervised learning.\n",
      "  warnings.warn(\n",
      "/Users/misha/opt/anaconda3/lib/python3.9/site-packages/pyod/models/base.py:431: UserWarning: y should not be presented in unsupervised learning.\n",
      "  warnings.warn(\n",
      "/Users/misha/opt/anaconda3/lib/python3.9/site-packages/pyod/models/base.py:431: UserWarning: y should not be presented in unsupervised learning.\n",
      "  warnings.warn(\n"
     ]
    },
    {
     "name": "stdout",
     "output_type": "stream",
     "text": [
      "best param: None\n"
     ]
    },
    {
     "name": "stderr",
     "output_type": "stream",
     "text": [
      "/Users/misha/opt/anaconda3/lib/python3.9/site-packages/pyod/models/base.py:431: UserWarning: y should not be presented in unsupervised learning.\n",
      "  warnings.warn(\n"
     ]
    },
    {
     "name": "stdout",
     "output_type": "stream",
     "text": [
      "best param: None\n",
      "best param: None\n"
     ]
    },
    {
     "name": "stderr",
     "output_type": "stream",
     "text": [
      "/Users/misha/opt/anaconda3/lib/python3.9/site-packages/pyod/models/base.py:431: UserWarning: y should not be presented in unsupervised learning.\n",
      "  warnings.warn(\n",
      "/Users/misha/opt/anaconda3/lib/python3.9/site-packages/pyod/models/base.py:431: UserWarning: y should not be presented in unsupervised learning.\n",
      "  warnings.warn(\n"
     ]
    },
    {
     "name": "stdout",
     "output_type": "stream",
     "text": [
      "best param: None\n",
      "best param: None\n"
     ]
    },
    {
     "name": "stderr",
     "output_type": "stream",
     "text": [
      "/Users/misha/opt/anaconda3/lib/python3.9/site-packages/pyod/models/base.py:431: UserWarning: y should not be presented in unsupervised learning.\n",
      "  warnings.warn(\n",
      "/Users/misha/opt/anaconda3/lib/python3.9/site-packages/pyod/models/base.py:431: UserWarning: y should not be presented in unsupervised learning.\n",
      "  warnings.warn(\n",
      "OMP: Info #271: omp_set_nested routine deprecated, please use omp_set_max_active_levels instead.\n"
     ]
    }
   ],
   "source": [
    "# seed for reproducible results\n",
    "seed = 42\n",
    "\n",
    "for dataset in dataset_list:\n",
    "    '''\n",
    "    la: ratio of labeled anomalies, from 0.0 to 1.0\n",
    "    realistic_synthetic_mode: types of synthetic anomalies, can be local, global, dependency or cluster\n",
    "    noise_type: inject data noises for testing model robustness, can be duplicated_anomalies, irrelevant_features or label_contamination\n",
    "    '''\n",
    "    \n",
    "    # import the dataset\n",
    "    datagenerator.dataset = dataset # specify the dataset name\n",
    "    data = datagenerator.generator(la=0.1, realistic_synthetic_mode=None, noise_type=None) # only 10% labeled anomalies are available\n",
    "    \n",
    "    for name, clf in tqdm(model_dict.items()):\n",
    "        # model initialization\n",
    "        clf = clf(seed=seed, model_name=name)\n",
    "        \n",
    "        # training, for unsupervised models the y label will be discarded\n",
    "        try:\n",
    "            clf = clf.fit(X_train=data['X_train'], y_train=data['y_train'])\n",
    "            \n",
    "                    # output predicted anomaly score on testing set\n",
    "            score = clf.predict_score(data['X_test'])\n",
    "\n",
    "            # evaluation\n",
    "            result = utils.metric(y_true=data['y_test'], y_score=score)\n",
    "            \n",
    "            # save results\n",
    "            df_AUCROC.loc[dataset, name] = result['aucroc']\n",
    "            df_AUCPR.loc[dataset, name] = result['aucpr']\n",
    "        except:\n",
    "            continue\n"
   ]
  },
  {
   "cell_type": "code",
   "execution_count": 30,
   "metadata": {
    "ExecuteTime": {
     "end_time": "2022-07-08T07:50:14.555117Z",
     "start_time": "2022-07-08T07:50:14.511234Z"
    },
    "pycharm": {
     "name": "#%%\n"
    }
   },
   "outputs": [],
   "source": [
    "df_AUCROC.to_csv('AUCROC.csv')"
   ]
  },
  {
   "cell_type": "code",
   "execution_count": 31,
   "metadata": {
    "ExecuteTime": {
     "end_time": "2022-07-08T07:50:14.587032Z",
     "start_time": "2022-07-08T07:50:14.560106Z"
    },
    "jupyter": {
     "outputs_hidden": false
    },
    "pycharm": {
     "name": "#%%\n"
    }
   },
   "outputs": [],
   "source": [
    "df_AUCPR.to_csv('AUCPR.csv')"
   ]
  },
  {
   "cell_type": "code",
   "execution_count": 27,
   "metadata": {},
   "outputs": [
    {
     "data": {
      "text/html": [
       "<div>\n",
       "<style scoped>\n",
       "    .dataframe tbody tr th:only-of-type {\n",
       "        vertical-align: middle;\n",
       "    }\n",
       "\n",
       "    .dataframe tbody tr th {\n",
       "        vertical-align: top;\n",
       "    }\n",
       "\n",
       "    .dataframe thead th {\n",
       "        text-align: right;\n",
       "    }\n",
       "</style>\n",
       "<table border=\"1\" class=\"dataframe\">\n",
       "  <thead>\n",
       "    <tr style=\"text-align: right;\">\n",
       "      <th></th>\n",
       "      <th>IForest</th>\n",
       "      <th>OCSVM</th>\n",
       "      <th>ABOD</th>\n",
       "      <th>CBLOF</th>\n",
       "      <th>COF</th>\n",
       "      <th>AOM</th>\n",
       "      <th>COPOD</th>\n",
       "      <th>ECOD</th>\n",
       "      <th>FeatureBagging</th>\n",
       "      <th>HBOS</th>\n",
       "      <th>...</th>\n",
       "      <th>MCD</th>\n",
       "      <th>PCA</th>\n",
       "      <th>SOD</th>\n",
       "      <th>SOS</th>\n",
       "      <th>VAE</th>\n",
       "      <th>DeepSVDD</th>\n",
       "      <th>AutoEncoder</th>\n",
       "      <th>SOGAAL</th>\n",
       "      <th>MOGAAL</th>\n",
       "      <th>XGBOD</th>\n",
       "    </tr>\n",
       "  </thead>\n",
       "  <tbody>\n",
       "    <tr>\n",
       "      <th>2_annthyroid</th>\n",
       "      <td>0.826387</td>\n",
       "      <td>0.606069</td>\n",
       "      <td>NaN</td>\n",
       "      <td>0.673525</td>\n",
       "      <td>0.704828</td>\n",
       "      <td>NaN</td>\n",
       "      <td>0.795847</td>\n",
       "      <td>0.803716</td>\n",
       "      <td>0.806159</td>\n",
       "      <td>0.691522</td>\n",
       "      <td>...</td>\n",
       "      <td>0.920006</td>\n",
       "      <td>0.692759</td>\n",
       "      <td>0.790217</td>\n",
       "      <td>0.608144</td>\n",
       "      <td>NaN</td>\n",
       "      <td>0.754313</td>\n",
       "      <td>0.76345</td>\n",
       "      <td>0.192325</td>\n",
       "      <td>0.403831</td>\n",
       "      <td>0.989428</td>\n",
       "    </tr>\n",
       "    <tr>\n",
       "      <th>6_cardio</th>\n",
       "      <td>0.944193</td>\n",
       "      <td>0.939676</td>\n",
       "      <td>0.498576</td>\n",
       "      <td>0.851296</td>\n",
       "      <td>0.54455</td>\n",
       "      <td>NaN</td>\n",
       "      <td>0.928363</td>\n",
       "      <td>0.942827</td>\n",
       "      <td>0.646293</td>\n",
       "      <td>0.865343</td>\n",
       "      <td>...</td>\n",
       "      <td>0.884439</td>\n",
       "      <td>0.961087</td>\n",
       "      <td>0.672526</td>\n",
       "      <td>0.579021</td>\n",
       "      <td>NaN</td>\n",
       "      <td>0.680346</td>\n",
       "      <td>0.934627</td>\n",
       "      <td>0.130329</td>\n",
       "      <td>0.143578</td>\n",
       "      <td>0.959227</td>\n",
       "    </tr>\n",
       "    <tr>\n",
       "      <th>23_mammography</th>\n",
       "      <td>0.849503</td>\n",
       "      <td>0.854704</td>\n",
       "      <td>NaN</td>\n",
       "      <td>0.84844</td>\n",
       "      <td>0.792004</td>\n",
       "      <td>NaN</td>\n",
       "      <td>0.898732</td>\n",
       "      <td>0.907484</td>\n",
       "      <td>0.785237</td>\n",
       "      <td>0.871755</td>\n",
       "      <td>...</td>\n",
       "      <td>0.481078</td>\n",
       "      <td>0.893982</td>\n",
       "      <td>0.809837</td>\n",
       "      <td>NaN</td>\n",
       "      <td>NaN</td>\n",
       "      <td>0.716212</td>\n",
       "      <td>0.426207</td>\n",
       "      <td>0.31396</td>\n",
       "      <td>0.123889</td>\n",
       "      <td>0.921029</td>\n",
       "    </tr>\n",
       "    <tr>\n",
       "      <th>25_musk</th>\n",
       "      <td>1.0</td>\n",
       "      <td>0.818675</td>\n",
       "      <td>0.085936</td>\n",
       "      <td>1.0</td>\n",
       "      <td>0.400387</td>\n",
       "      <td>NaN</td>\n",
       "      <td>0.95525</td>\n",
       "      <td>0.964549</td>\n",
       "      <td>0.459512</td>\n",
       "      <td>1.0</td>\n",
       "      <td>...</td>\n",
       "      <td>0.999923</td>\n",
       "      <td>1.0</td>\n",
       "      <td>0.760209</td>\n",
       "      <td>0.468307</td>\n",
       "      <td>1.0</td>\n",
       "      <td>0.732158</td>\n",
       "      <td>1.0</td>\n",
       "      <td>0.005114</td>\n",
       "      <td>0.006432</td>\n",
       "      <td>1.0</td>\n",
       "    </tr>\n",
       "    <tr>\n",
       "      <th>30_satellite</th>\n",
       "      <td>0.699404</td>\n",
       "      <td>NaN</td>\n",
       "      <td>0.538013</td>\n",
       "      <td>0.717879</td>\n",
       "      <td>0.556999</td>\n",
       "      <td>NaN</td>\n",
       "      <td>0.645112</td>\n",
       "      <td>0.593575</td>\n",
       "      <td>0.524199</td>\n",
       "      <td>0.76813</td>\n",
       "      <td>...</td>\n",
       "      <td>0.80369</td>\n",
       "      <td>0.609416</td>\n",
       "      <td>0.637436</td>\n",
       "      <td>0.471234</td>\n",
       "      <td>0.780963</td>\n",
       "      <td>0.682707</td>\n",
       "      <td>0.786286</td>\n",
       "      <td>0.545097</td>\n",
       "      <td>0.451446</td>\n",
       "      <td>0.925978</td>\n",
       "    </tr>\n",
       "    <tr>\n",
       "      <th>31_satimage-2</th>\n",
       "      <td>0.996484</td>\n",
       "      <td>0.983527</td>\n",
       "      <td>0.762625</td>\n",
       "      <td>0.997924</td>\n",
       "      <td>0.451384</td>\n",
       "      <td>NaN</td>\n",
       "      <td>0.983444</td>\n",
       "      <td>0.97608</td>\n",
       "      <td>0.427243</td>\n",
       "      <td>0.985936</td>\n",
       "      <td>...</td>\n",
       "      <td>0.994491</td>\n",
       "      <td>0.986185</td>\n",
       "      <td>0.754125</td>\n",
       "      <td>0.557254</td>\n",
       "      <td>0.990532</td>\n",
       "      <td>0.542663</td>\n",
       "      <td>0.980703</td>\n",
       "      <td>0.751412</td>\n",
       "      <td>0.001467</td>\n",
       "      <td>0.971055</td>\n",
       "    </tr>\n",
       "    <tr>\n",
       "      <th>32_shuttle</th>\n",
       "      <td>0.996861</td>\n",
       "      <td>0.987461</td>\n",
       "      <td>0.618752</td>\n",
       "      <td>0.997058</td>\n",
       "      <td>0.557606</td>\n",
       "      <td>NaN</td>\n",
       "      <td>0.99655</td>\n",
       "      <td>0.993542</td>\n",
       "      <td>0.522474</td>\n",
       "      <td>0.994925</td>\n",
       "      <td>...</td>\n",
       "      <td>0.990698</td>\n",
       "      <td>0.993764</td>\n",
       "      <td>0.755756</td>\n",
       "      <td>0.486732</td>\n",
       "      <td>NaN</td>\n",
       "      <td>0.434838</td>\n",
       "      <td>0.993733</td>\n",
       "      <td>0.970135</td>\n",
       "      <td>0.519471</td>\n",
       "      <td>0.99908</td>\n",
       "    </tr>\n",
       "    <tr>\n",
       "      <th>47_yeast</th>\n",
       "      <td>0.429556</td>\n",
       "      <td>0.448353</td>\n",
       "      <td>0.417114</td>\n",
       "      <td>0.477242</td>\n",
       "      <td>0.428639</td>\n",
       "      <td>NaN</td>\n",
       "      <td>0.406373</td>\n",
       "      <td>0.477197</td>\n",
       "      <td>0.478383</td>\n",
       "      <td>0.410032</td>\n",
       "      <td>...</td>\n",
       "      <td>0.425752</td>\n",
       "      <td>0.444057</td>\n",
       "      <td>0.470439</td>\n",
       "      <td>0.457147</td>\n",
       "      <td>NaN</td>\n",
       "      <td>0.469813</td>\n",
       "      <td>0.518663</td>\n",
       "      <td>0.604972</td>\n",
       "      <td>0.607344</td>\n",
       "      <td>0.565901</td>\n",
       "    </tr>\n",
       "  </tbody>\n",
       "</table>\n",
       "<p>8 rows × 26 columns</p>\n",
       "</div>"
      ],
      "text/plain": [
       "                 IForest     OCSVM      ABOD     CBLOF       COF  AOM  \\\n",
       "2_annthyroid    0.826387  0.606069       NaN  0.673525  0.704828  NaN   \n",
       "6_cardio        0.944193  0.939676  0.498576  0.851296   0.54455  NaN   \n",
       "23_mammography  0.849503  0.854704       NaN   0.84844  0.792004  NaN   \n",
       "25_musk              1.0  0.818675  0.085936       1.0  0.400387  NaN   \n",
       "30_satellite    0.699404       NaN  0.538013  0.717879  0.556999  NaN   \n",
       "31_satimage-2   0.996484  0.983527  0.762625  0.997924  0.451384  NaN   \n",
       "32_shuttle      0.996861  0.987461  0.618752  0.997058  0.557606  NaN   \n",
       "47_yeast        0.429556  0.448353  0.417114  0.477242  0.428639  NaN   \n",
       "\n",
       "                   COPOD      ECOD FeatureBagging      HBOS  ...       MCD  \\\n",
       "2_annthyroid    0.795847  0.803716       0.806159  0.691522  ...  0.920006   \n",
       "6_cardio        0.928363  0.942827       0.646293  0.865343  ...  0.884439   \n",
       "23_mammography  0.898732  0.907484       0.785237  0.871755  ...  0.481078   \n",
       "25_musk          0.95525  0.964549       0.459512       1.0  ...  0.999923   \n",
       "30_satellite    0.645112  0.593575       0.524199   0.76813  ...   0.80369   \n",
       "31_satimage-2   0.983444   0.97608       0.427243  0.985936  ...  0.994491   \n",
       "32_shuttle       0.99655  0.993542       0.522474  0.994925  ...  0.990698   \n",
       "47_yeast        0.406373  0.477197       0.478383  0.410032  ...  0.425752   \n",
       "\n",
       "                     PCA       SOD       SOS       VAE  DeepSVDD AutoEncoder  \\\n",
       "2_annthyroid    0.692759  0.790217  0.608144       NaN  0.754313     0.76345   \n",
       "6_cardio        0.961087  0.672526  0.579021       NaN  0.680346    0.934627   \n",
       "23_mammography  0.893982  0.809837       NaN       NaN  0.716212    0.426207   \n",
       "25_musk              1.0  0.760209  0.468307       1.0  0.732158         1.0   \n",
       "30_satellite    0.609416  0.637436  0.471234  0.780963  0.682707    0.786286   \n",
       "31_satimage-2   0.986185  0.754125  0.557254  0.990532  0.542663    0.980703   \n",
       "32_shuttle      0.993764  0.755756  0.486732       NaN  0.434838    0.993733   \n",
       "47_yeast        0.444057  0.470439  0.457147       NaN  0.469813    0.518663   \n",
       "\n",
       "                  SOGAAL    MOGAAL     XGBOD  \n",
       "2_annthyroid    0.192325  0.403831  0.989428  \n",
       "6_cardio        0.130329  0.143578  0.959227  \n",
       "23_mammography   0.31396  0.123889  0.921029  \n",
       "25_musk         0.005114  0.006432       1.0  \n",
       "30_satellite    0.545097  0.451446  0.925978  \n",
       "31_satimage-2   0.751412  0.001467  0.971055  \n",
       "32_shuttle      0.970135  0.519471   0.99908  \n",
       "47_yeast        0.604972  0.607344  0.565901  \n",
       "\n",
       "[8 rows x 26 columns]"
      ]
     },
     "execution_count": 27,
     "metadata": {},
     "output_type": "execute_result"
    }
   ],
   "source": [
    "df_AUCROC"
   ]
  },
  {
   "cell_type": "code",
   "execution_count": 64,
   "metadata": {},
   "outputs": [
    {
     "data": {
      "text/html": [
       "<div>\n",
       "<style scoped>\n",
       "    .dataframe tbody tr th:only-of-type {\n",
       "        vertical-align: middle;\n",
       "    }\n",
       "\n",
       "    .dataframe tbody tr th {\n",
       "        vertical-align: top;\n",
       "    }\n",
       "\n",
       "    .dataframe thead th {\n",
       "        text-align: right;\n",
       "    }\n",
       "</style>\n",
       "<table border=\"1\" class=\"dataframe\">\n",
       "  <thead>\n",
       "    <tr style=\"text-align: right;\">\n",
       "      <th></th>\n",
       "      <th>IForest</th>\n",
       "      <th>OCSVM</th>\n",
       "      <th>ABOD</th>\n",
       "      <th>CBLOF</th>\n",
       "      <th>COF</th>\n",
       "      <th>AOM</th>\n",
       "      <th>COPOD</th>\n",
       "      <th>ECOD</th>\n",
       "      <th>FeatureBagging</th>\n",
       "      <th>HBOS</th>\n",
       "      <th>...</th>\n",
       "      <th>MCD</th>\n",
       "      <th>PCA</th>\n",
       "      <th>SOD</th>\n",
       "      <th>SOS</th>\n",
       "      <th>VAE</th>\n",
       "      <th>DeepSVDD</th>\n",
       "      <th>AutoEncoder</th>\n",
       "      <th>SOGAAL</th>\n",
       "      <th>MOGAAL</th>\n",
       "      <th>XGBOD</th>\n",
       "    </tr>\n",
       "  </thead>\n",
       "  <tbody>\n",
       "    <tr>\n",
       "      <th>2_annthyroid</th>\n",
       "      <td>0.353499</td>\n",
       "      <td>0.130856</td>\n",
       "      <td>NaN</td>\n",
       "      <td>0.236025</td>\n",
       "      <td>0.183333</td>\n",
       "      <td>NaN</td>\n",
       "      <td>0.192934</td>\n",
       "      <td>0.298425</td>\n",
       "      <td>0.193313</td>\n",
       "      <td>0.229328</td>\n",
       "      <td>...</td>\n",
       "      <td>0.514953</td>\n",
       "      <td>0.206922</td>\n",
       "      <td>0.221867</td>\n",
       "      <td>0.133813</td>\n",
       "      <td>NaN</td>\n",
       "      <td>0.21219</td>\n",
       "      <td>0.349782</td>\n",
       "      <td>0.042717</td>\n",
       "      <td>0.059597</td>\n",
       "      <td>0.781004</td>\n",
       "    </tr>\n",
       "    <tr>\n",
       "      <th>6_cardio</th>\n",
       "      <td>0.615718</td>\n",
       "      <td>0.572908</td>\n",
       "      <td>0.143099</td>\n",
       "      <td>0.486642</td>\n",
       "      <td>0.12551</td>\n",
       "      <td>NaN</td>\n",
       "      <td>0.604146</td>\n",
       "      <td>0.592825</td>\n",
       "      <td>0.166842</td>\n",
       "      <td>0.517139</td>\n",
       "      <td>...</td>\n",
       "      <td>0.453585</td>\n",
       "      <td>0.652319</td>\n",
       "      <td>0.215601</td>\n",
       "      <td>0.143175</td>\n",
       "      <td>NaN</td>\n",
       "      <td>0.312177</td>\n",
       "      <td>0.603999</td>\n",
       "      <td>0.053829</td>\n",
       "      <td>0.05449</td>\n",
       "      <td>0.784746</td>\n",
       "    </tr>\n",
       "    <tr>\n",
       "      <th>23_mammography</th>\n",
       "      <td>0.189354</td>\n",
       "      <td>0.116258</td>\n",
       "      <td>NaN</td>\n",
       "      <td>0.111213</td>\n",
       "      <td>0.117497</td>\n",
       "      <td>NaN</td>\n",
       "      <td>0.404433</td>\n",
       "      <td>0.414901</td>\n",
       "      <td>0.08996</td>\n",
       "      <td>0.177061</td>\n",
       "      <td>...</td>\n",
       "      <td>0.021849</td>\n",
       "      <td>0.2055</td>\n",
       "      <td>0.149106</td>\n",
       "      <td>NaN</td>\n",
       "      <td>NaN</td>\n",
       "      <td>0.097473</td>\n",
       "      <td>0.018759</td>\n",
       "      <td>0.016766</td>\n",
       "      <td>0.012191</td>\n",
       "      <td>0.396075</td>\n",
       "    </tr>\n",
       "    <tr>\n",
       "      <th>25_musk</th>\n",
       "      <td>1.0</td>\n",
       "      <td>0.090669</td>\n",
       "      <td>0.017537</td>\n",
       "      <td>1.0</td>\n",
       "      <td>0.027348</td>\n",
       "      <td>NaN</td>\n",
       "      <td>0.43955</td>\n",
       "      <td>0.582992</td>\n",
       "      <td>0.030433</td>\n",
       "      <td>1.0</td>\n",
       "      <td>...</td>\n",
       "      <td>0.997662</td>\n",
       "      <td>1.0</td>\n",
       "      <td>0.079929</td>\n",
       "      <td>0.062824</td>\n",
       "      <td>1.0</td>\n",
       "      <td>0.261068</td>\n",
       "      <td>1.0</td>\n",
       "      <td>0.016501</td>\n",
       "      <td>0.016501</td>\n",
       "      <td>1.0</td>\n",
       "    </tr>\n",
       "    <tr>\n",
       "      <th>30_satellite</th>\n",
       "      <td>0.660275</td>\n",
       "      <td>NaN</td>\n",
       "      <td>0.373054</td>\n",
       "      <td>0.621696</td>\n",
       "      <td>0.407289</td>\n",
       "      <td>NaN</td>\n",
       "      <td>0.58856</td>\n",
       "      <td>0.544425</td>\n",
       "      <td>0.361873</td>\n",
       "      <td>0.698374</td>\n",
       "      <td>...</td>\n",
       "      <td>0.764358</td>\n",
       "      <td>0.618827</td>\n",
       "      <td>0.473194</td>\n",
       "      <td>0.296156</td>\n",
       "      <td>0.727678</td>\n",
       "      <td>0.52019</td>\n",
       "      <td>0.722089</td>\n",
       "      <td>0.525758</td>\n",
       "      <td>0.476643</td>\n",
       "      <td>0.86264</td>\n",
       "    </tr>\n",
       "    <tr>\n",
       "      <th>31_satimage-2</th>\n",
       "      <td>0.948434</td>\n",
       "      <td>0.832774</td>\n",
       "      <td>0.063628</td>\n",
       "      <td>0.96064</td>\n",
       "      <td>0.104588</td>\n",
       "      <td>NaN</td>\n",
       "      <td>0.792396</td>\n",
       "      <td>0.707195</td>\n",
       "      <td>0.025745</td>\n",
       "      <td>0.79499</td>\n",
       "      <td>...</td>\n",
       "      <td>0.626793</td>\n",
       "      <td>0.843801</td>\n",
       "      <td>0.172567</td>\n",
       "      <td>0.036892</td>\n",
       "      <td>0.822389</td>\n",
       "      <td>0.01641</td>\n",
       "      <td>0.479722</td>\n",
       "      <td>0.041641</td>\n",
       "      <td>0.006347</td>\n",
       "      <td>0.879892</td>\n",
       "    </tr>\n",
       "    <tr>\n",
       "      <th>32_shuttle</th>\n",
       "      <td>0.968758</td>\n",
       "      <td>0.972579</td>\n",
       "      <td>0.163101</td>\n",
       "      <td>0.986061</td>\n",
       "      <td>0.137095</td>\n",
       "      <td>NaN</td>\n",
       "      <td>0.969237</td>\n",
       "      <td>0.904617</td>\n",
       "      <td>0.080851</td>\n",
       "      <td>0.984733</td>\n",
       "      <td>...</td>\n",
       "      <td>0.87626</td>\n",
       "      <td>0.944208</td>\n",
       "      <td>0.264981</td>\n",
       "      <td>0.115418</td>\n",
       "      <td>NaN</td>\n",
       "      <td>0.100485</td>\n",
       "      <td>0.889622</td>\n",
       "      <td>0.961884</td>\n",
       "      <td>0.070142</td>\n",
       "      <td>0.987813</td>\n",
       "    </tr>\n",
       "    <tr>\n",
       "      <th>47_yeast</th>\n",
       "      <td>0.333248</td>\n",
       "      <td>0.322699</td>\n",
       "      <td>0.310292</td>\n",
       "      <td>0.328484</td>\n",
       "      <td>0.305052</td>\n",
       "      <td>NaN</td>\n",
       "      <td>0.326955</td>\n",
       "      <td>0.36528</td>\n",
       "      <td>0.336494</td>\n",
       "      <td>0.344416</td>\n",
       "      <td>...</td>\n",
       "      <td>0.31038</td>\n",
       "      <td>0.316245</td>\n",
       "      <td>0.321582</td>\n",
       "      <td>0.313357</td>\n",
       "      <td>NaN</td>\n",
       "      <td>0.326368</td>\n",
       "      <td>0.35471</td>\n",
       "      <td>0.452439</td>\n",
       "      <td>0.448737</td>\n",
       "      <td>0.417138</td>\n",
       "    </tr>\n",
       "  </tbody>\n",
       "</table>\n",
       "<p>8 rows × 26 columns</p>\n",
       "</div>"
      ],
      "text/plain": [
       "                 IForest     OCSVM      ABOD     CBLOF       COF  AOM  \\\n",
       "2_annthyroid    0.353499  0.130856       NaN  0.236025  0.183333  NaN   \n",
       "6_cardio        0.615718  0.572908  0.143099  0.486642   0.12551  NaN   \n",
       "23_mammography  0.189354  0.116258       NaN  0.111213  0.117497  NaN   \n",
       "25_musk              1.0  0.090669  0.017537       1.0  0.027348  NaN   \n",
       "30_satellite    0.660275       NaN  0.373054  0.621696  0.407289  NaN   \n",
       "31_satimage-2   0.948434  0.832774  0.063628   0.96064  0.104588  NaN   \n",
       "32_shuttle      0.968758  0.972579  0.163101  0.986061  0.137095  NaN   \n",
       "47_yeast        0.333248  0.322699  0.310292  0.328484  0.305052  NaN   \n",
       "\n",
       "                   COPOD      ECOD FeatureBagging      HBOS  ...       MCD  \\\n",
       "2_annthyroid    0.192934  0.298425       0.193313  0.229328  ...  0.514953   \n",
       "6_cardio        0.604146  0.592825       0.166842  0.517139  ...  0.453585   \n",
       "23_mammography  0.404433  0.414901        0.08996  0.177061  ...  0.021849   \n",
       "25_musk          0.43955  0.582992       0.030433       1.0  ...  0.997662   \n",
       "30_satellite     0.58856  0.544425       0.361873  0.698374  ...  0.764358   \n",
       "31_satimage-2   0.792396  0.707195       0.025745   0.79499  ...  0.626793   \n",
       "32_shuttle      0.969237  0.904617       0.080851  0.984733  ...   0.87626   \n",
       "47_yeast        0.326955   0.36528       0.336494  0.344416  ...   0.31038   \n",
       "\n",
       "                     PCA       SOD       SOS       VAE  DeepSVDD AutoEncoder  \\\n",
       "2_annthyroid    0.206922  0.221867  0.133813       NaN   0.21219    0.349782   \n",
       "6_cardio        0.652319  0.215601  0.143175       NaN  0.312177    0.603999   \n",
       "23_mammography    0.2055  0.149106       NaN       NaN  0.097473    0.018759   \n",
       "25_musk              1.0  0.079929  0.062824       1.0  0.261068         1.0   \n",
       "30_satellite    0.618827  0.473194  0.296156  0.727678   0.52019    0.722089   \n",
       "31_satimage-2   0.843801  0.172567  0.036892  0.822389   0.01641    0.479722   \n",
       "32_shuttle      0.944208  0.264981  0.115418       NaN  0.100485    0.889622   \n",
       "47_yeast        0.316245  0.321582  0.313357       NaN  0.326368     0.35471   \n",
       "\n",
       "                  SOGAAL    MOGAAL     XGBOD  \n",
       "2_annthyroid    0.042717  0.059597  0.781004  \n",
       "6_cardio        0.053829   0.05449  0.784746  \n",
       "23_mammography  0.016766  0.012191  0.396075  \n",
       "25_musk         0.016501  0.016501       1.0  \n",
       "30_satellite    0.525758  0.476643   0.86264  \n",
       "31_satimage-2   0.041641  0.006347  0.879892  \n",
       "32_shuttle      0.961884  0.070142  0.987813  \n",
       "47_yeast        0.452439  0.448737  0.417138  \n",
       "\n",
       "[8 rows x 26 columns]"
      ]
     },
     "execution_count": 64,
     "metadata": {},
     "output_type": "execute_result"
    }
   ],
   "source": [
    "df_AUCPR"
   ]
  },
  {
   "cell_type": "code",
   "execution_count": 59,
   "metadata": {},
   "outputs": [],
   "source": [
    "df_AUCRR_total.to_csv(\"results/AUCPR.csv\")"
   ]
  },
  {
   "cell_type": "code",
   "execution_count": null,
   "metadata": {},
   "outputs": [],
   "source": []
  }
 ],
 "metadata": {
  "kernelspec": {
   "display_name": "Python 3 (ipykernel)",
   "language": "python",
   "name": "python3"
  },
  "language_info": {
   "codemirror_mode": {
    "name": "ipython",
    "version": 3
   },
   "file_extension": ".py",
   "mimetype": "text/x-python",
   "name": "python",
   "nbconvert_exporter": "python",
   "pygments_lexer": "ipython3",
   "version": "3.9.7"
  },
  "toc": {
   "base_numbering": 1,
   "nav_menu": {},
   "number_sections": true,
   "sideBar": true,
   "skip_h1_title": false,
   "title_cell": "Table of Contents",
   "title_sidebar": "Contents",
   "toc_cell": false,
   "toc_position": {},
   "toc_section_display": true,
   "toc_window_display": false
  },
  "varInspector": {
   "cols": {
    "lenName": 16,
    "lenType": 16,
    "lenVar": 40
   },
   "kernels_config": {
    "python": {
     "delete_cmd_postfix": "",
     "delete_cmd_prefix": "del ",
     "library": "var_list.py",
     "varRefreshCmd": "print(var_dic_list())"
    },
    "r": {
     "delete_cmd_postfix": ") ",
     "delete_cmd_prefix": "rm(",
     "library": "var_list.r",
     "varRefreshCmd": "cat(var_dic_list()) "
    }
   },
   "types_to_exclude": [
    "module",
    "function",
    "builtin_function_or_method",
    "instance",
    "_Feature"
   ],
   "window_display": false
  }
 },
 "nbformat": 4,
 "nbformat_minor": 4
}
